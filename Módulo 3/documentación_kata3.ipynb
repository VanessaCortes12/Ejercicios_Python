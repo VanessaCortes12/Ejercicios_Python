{
 "cells": [
  {
   "cell_type": "markdown",
   "metadata": {},
   "source": [
    "Usando una condicional simple"
   ]
  },
  {
   "cell_type": "code",
   "execution_count": 7,
   "metadata": {},
   "outputs": [],
   "source": [
    "\n",
    "a = 97\n",
    "b = 55\n",
    "# Condicional que evalua la expresión de prueba\n",
    "if a < b:\n",
    "    # instrucción que se va a ejecutar\n",
    "    print(b)"
   ]
  },
  {
   "cell_type": "markdown",
   "metadata": {},
   "source": [
    "Ejemplos con diferentes operadores"
   ]
  },
  {
   "cell_type": "code",
   "execution_count": 8,
   "metadata": {},
   "outputs": [
    {
     "name": "stdout",
     "output_type": "stream",
     "text": [
      "93\n"
     ]
    }
   ],
   "source": [
    "\n",
    "a = 93 #A la letra 'a' le asigno el valor de 93.\n",
    "b = 27 #A la letra 'b' le asigno el valor de 27.\n",
    "\n",
    "if a >= b: #SI a(93) es mayor o igual a b(27) entonces:\n",
    "    print(a) #Muestra (print) el valor de a(93)"
   ]
  },
  {
   "cell_type": "code",
   "execution_count": null,
   "metadata": {},
   "outputs": [],
   "source": [
    "a = 24\n",
    "b = 44\n",
    "if a <= 0:\n",
    "    print(a)\n",
    "print(b)"
   ]
  },
  {
   "cell_type": "markdown",
   "metadata": {},
   "source": [
    "Identación de código en sentencias de python"
   ]
  },
  {
   "cell_type": "code",
   "execution_count": 11,
   "metadata": {},
   "outputs": [
    {
     "name": "stdout",
     "output_type": "stream",
     "text": [
      "44\n"
     ]
    }
   ],
   "source": [
    "a = 24\n",
    "b = 44\n",
    "\n",
    "#En una condicional de Python, las sentencias del if deben estar identadas con el IF.\n",
    "#De lo contrario, no se ejecutará.\n",
    "\n",
    "if a <= 0: \n",
    "    print(a) #Se ejecuta ya que está identado con el if\n",
    "print(b) #No se ejecuta ya que no está identado y no tiene sangría"
   ]
  },
  {
   "cell_type": "markdown",
   "metadata": {},
   "source": [
    "Sentencias condicionales complejas: Else, elif"
   ]
  },
  {
   "cell_type": "code",
   "execution_count": 17,
   "metadata": {},
   "outputs": [
    {
     "name": "stdout",
     "output_type": "stream",
     "text": [
      "A es mayor o igual que B 93\n"
     ]
    }
   ],
   "source": [
    "##### ELSE #####\n",
    "\n",
    "a = 93\n",
    "b = 27\n",
    "\n",
    "#En este ejemplo, si a NO ES MAYOR O IGUAL que b, no pasa nada. \n",
    "#Supongamos que desea imprimir b si la expresión de prueba es False:\n",
    "\n",
    "if a >= b:\n",
    "    print(\"A es mayor o igual que B \"+str(a)) # Es TRUE\n",
    "else:\n",
    "    print(\"A NO es mayor o igual que B\"+str(b)) # Es FALSE\n",
    "\n",
    "# Si la expresión de prueba es False, se omite el código del cuerpo de la instrucción if \n",
    "# y el programa continúa ejecutándose desde la instrucción else. \n"
   ]
  },
  {
   "cell_type": "code",
   "execution_count": 18,
   "metadata": {},
   "outputs": [
    {
     "name": "stdout",
     "output_type": "stream",
     "text": [
      "a es mayor o igual que b\n"
     ]
    }
   ],
   "source": [
    "##### ELIF #### (else if xd)\n",
    "\n",
    "a = 93\n",
    "b = 27\n",
    "if a >= b: # ES FALSE? EJECUTA ELIF. // ES TRUE? NO EJECUTES ELIF \n",
    "    print(\"a es mayor o igual que b\")\n",
    "elif a == b: # Este bloque se ejecuta si solo el IF es false\n",
    "    print(\"a es igual que b\")"
   ]
  },
  {
   "cell_type": "code",
   "execution_count": 19,
   "metadata": {},
   "outputs": [
    {
     "name": "stdout",
     "output_type": "stream",
     "text": [
      "a es mayor que b\n"
     ]
    }
   ],
   "source": [
    "### COMBINANDO DECLARACIONES IF ELIF Y ELSE #####\n",
    "\n",
    "# 1. ELIF solo se ejecuta cuando la condicion IF es false \n",
    "# 2. IF solo puede tener un bloque else, but puede temer varios elif\n",
    "\n",
    "a = 93\n",
    "b = 27\n",
    "if a > b: # ES true, por lo tanto las demas quedan descartadas\n",
    "    print(\"a es mayor que b\")\n",
    "elif a < b:\n",
    "    print(\"a es menor que b\")\n",
    "else: \n",
    "    print (\"a es igual que b\")"
   ]
  },
  {
   "cell_type": "markdown",
   "metadata": {},
   "source": [
    "Logica condicional anidada\n"
   ]
  },
  {
   "cell_type": "code",
   "execution_count": 20,
   "metadata": {},
   "outputs": [
    {
     "name": "stdout",
     "output_type": "stream",
     "text": [
      "a es menor que b\n"
     ]
    }
   ],
   "source": [
    "a = 16\n",
    "b = 25\n",
    "c = 27\n",
    "\n",
    "#  Para anidar condiciones, se tienen que identar las condiciones internas y \n",
    "#  todo lo que esté en el mismo nivel de sangría se ejecutará \n",
    "#  en el mismo bloque de código\n",
    "\n",
    "if a > b:\n",
    "#\n",
    "    if b > c:\n",
    "        print (\"a es mayor que b y b es mayor que c\")\n",
    "    else: \n",
    "        print (\"a es mayor que b y menor que c\")\n",
    "#\n",
    "elif a == b:\n",
    "    print (\"a es igual que b\")\n",
    "else:\n",
    "    print (\"a es menor que b\")"
   ]
  },
  {
   "cell_type": "markdown",
   "metadata": {},
   "source": [
    "Operadores Lógicos\n",
    "AND y OR"
   ]
  },
  {
   "cell_type": "code",
   "execution_count": 22,
   "metadata": {},
   "outputs": [
    {
     "name": "stdout",
     "output_type": "stream",
     "text": [
      "57\n"
     ]
    }
   ],
   "source": [
    "## OR ##\n",
    "\n",
    "#Para que toda la expresión se evalúe en True, \n",
    "# al menos UNA de las subexpresiones debe ser VERDADERA\n",
    "\n",
    "a = 23\n",
    "b = 34\n",
    "if a == 34 or b == 34: # 1 condicion es VERDADERA y una es falsa = TRUE\n",
    "    print(a + b)\n",
    "\n",
    "#--------------------------------------------------------------------------\n",
    "\n",
    "## AND ##\n",
    "\n",
    "#Ambas condiciones de la expresión de prueba deben ser verdaderas \n",
    "# para que toda la expresión de prueba se evalúe en True\n",
    "\n",
    "a = 23\n",
    "b = 34\n",
    "if a == 34 and b == 34: # 1 condicion es VERDADERA y una es falsa = FALSE\n",
    "    print (a + b)\n",
    "\n",
    "\n"
   ]
  },
  {
   "cell_type": "markdown",
   "metadata": {},
   "source": [
    "Diferencias entre AND y OR"
   ]
  },
  {
   "cell_type": "markdown",
   "metadata": {},
   "source": [
    "AND\n",
    "\n",
    "subexpresión1\tOperador\tsubexpresión2\tResultado\n",
    "    True\t      and\t        True\t      True\n",
    "    True\t      and\t        False\t      False\n",
    "    False\t      and\t        True\t      False\n",
    "    False\t      and\t        False\t      False\n",
    "\n",
    "OR\n",
    "\n",
    "subexpresión1\tOperador\tsubexpresión2\tResultado\n",
    "    True\t       or\t        True\t      True\n",
    "    True\t       or\t        False\t      True\n",
    "    False\t       or\t        True\t      True\n",
    "    False\t       or\t        False\t      False"
   ]
  }
 ],
 "metadata": {
  "interpreter": {
   "hash": "4af4353d9197ba0fb0867c21fa621ef2a0a1e1639e0c13b2ce71d46fbd55eee4"
  },
  "kernelspec": {
   "display_name": "Python 3.9.10 64-bit (windows store)",
   "language": "python",
   "name": "python3"
  },
  "language_info": {
   "codemirror_mode": {
    "name": "ipython",
    "version": 3
   },
   "file_extension": ".py",
   "mimetype": "text/x-python",
   "name": "python",
   "nbconvert_exporter": "python",
   "pygments_lexer": "ipython3",
   "version": "3.9.10"
  },
  "orig_nbformat": 4
 },
 "nbformat": 4,
 "nbformat_minor": 2
}
