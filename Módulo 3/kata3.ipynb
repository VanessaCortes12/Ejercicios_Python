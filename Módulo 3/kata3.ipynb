{
 "cells": [
  {
   "cell_type": "markdown",
   "metadata": {},
   "source": [
    "--- Kata 03 ---"
   ]
  },
  {
   "cell_type": "markdown",
   "metadata": {},
   "source": [
    "Ejercicio: Escribir declaraciones if, else, y elif"
   ]
  },
  {
   "cell_type": "markdown",
   "metadata": {},
   "source": [
    "1. Un asteroide se acerca, y viaja a una velocidad de 49 km/s."
   ]
  },
  {
   "cell_type": "code",
   "execution_count": 10,
   "metadata": {},
   "outputs": [
    {
     "name": "stdout",
     "output_type": "stream",
     "text": [
      "ADVERTENCIA: Hay un asteroide muy cerca a una velocidad de 49km/s\n"
     ]
    }
   ],
   "source": [
    "advertencia = 25\n",
    "dato = input (\"¿Cúal es la velocidad del asteroide?\")\n",
    "velocidad = int(dato)\n",
    "\n",
    "if velocidad > advertencia:\n",
    "    print(\"ADVERTENCIA: Hay un asteroide muy cerca a una velocidad de \"+str(velocidad)+\"km/s\")\n",
    "else:\n",
    "    print(\"No hay nada que temer, ¡todo está bajo control!\")"
   ]
  },
  {
   "cell_type": "markdown",
   "metadata": {},
   "source": [
    "2. Si un asteroide entra en la atmósfera de la Tierra a una velocidad mayor o igual a 20 km/s, a veces produce un rayo de luz que se puede ver desde la Tierra"
   ]
  },
  {
   "cell_type": "code",
   "execution_count": 13,
   "metadata": {},
   "outputs": [
    {
     "name": "stdout",
     "output_type": "stream",
     "text": [
      "Por tantito se iba a ver un rayo de luz en el cielo!\n"
     ]
    }
   ],
   "source": [
    "v1 = 19\n",
    "\n",
    "if v1 >= 20:\n",
    "    print(\"¡Debes buscar un asteroide en el cielo!\")\n",
    "else:\n",
    "    if v1 == 19:\n",
    "        print(\"Por tantito se iba a ver un rayo de luz en el cielo!\")\n",
    "\n",
    "    elif v1 < 19:\n",
    "        print(\"No se puede ver nada en el cielo D:\")\n"
   ]
  },
  {
   "cell_type": "markdown",
   "metadata": {},
   "source": [
    "Ejercicio: Uso de operadores and y or"
   ]
  },
  {
   "cell_type": "code",
   "execution_count": 25,
   "metadata": {},
   "outputs": [
    {
     "name": "stdout",
     "output_type": "stream",
     "text": [
      "¡Debes buscar un asteroide en el cielo!\n"
     ]
    }
   ],
   "source": [
    "v2 = 25\n",
    "tam = 40\n",
    "\n",
    "if tam > 25 and v2 > 25:\n",
    "    print(\"Peligro! Hay un asteroide que causará mucho daño a la tierra\")\n",
    "elif v2 >= 20: \n",
    "    print(\"¡Debes buscar un asteroide en el cielo!\")\n",
    "else: \n",
    "    print(\"No se puede ver nada en el cielo D:\")"
   ]
  }
 ],
 "metadata": {
  "interpreter": {
   "hash": "4af4353d9197ba0fb0867c21fa621ef2a0a1e1639e0c13b2ce71d46fbd55eee4"
  },
  "kernelspec": {
   "display_name": "Python 3.9.10 64-bit (windows store)",
   "language": "python",
   "name": "python3"
  },
  "language_info": {
   "codemirror_mode": {
    "name": "ipython",
    "version": 3
   },
   "file_extension": ".py",
   "mimetype": "text/x-python",
   "name": "python",
   "nbconvert_exporter": "python",
   "pygments_lexer": "ipython3",
   "version": "3.9.10"
  },
  "orig_nbformat": 4
 },
 "nbformat": 4,
 "nbformat_minor": 2
}
