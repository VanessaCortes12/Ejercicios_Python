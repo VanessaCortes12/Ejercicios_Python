{
 "cells": [
  {
   "cell_type": "markdown",
   "metadata": {},
   "source": [
    "# Ejercicio 1: Crear y usar listas de Python"
   ]
  },
  {
   "cell_type": "code",
   "execution_count": 17,
   "metadata": {},
   "outputs": [
    {
     "name": "stdout",
     "output_type": "stream",
     "text": [
      "['Mercury', 'Venus', 'Earth', 'Mars', 'Jupiter', 'Saturn', 'Uranus', 'Neptune']\n",
      "El numero de planetas es: 9\n",
      "Y el ultimo es :Pluto\n"
     ]
    }
   ],
   "source": [
    "planetas = ['Mercury', 'Venus', 'Earth', 'Mars', 'Jupiter', 'Saturn', 'Uranus', 'Neptune']\n",
    "print(planetas) # Imprimimos planetas\n",
    "planetas.append('Pluto') # Agregamos a pluto\n",
    "n_planetas = len(planetas) # Hacemos el conteo de los elementos\n",
    "print(\"El numero de planetas es: \"+str(n_planetas)) # Lo mostramos\n",
    "print(\"Y el ultimo es :\"+str(planetas[8])) # Imprimimos solo un indice de la lista"
   ]
  },
  {
   "cell_type": "markdown",
   "metadata": {},
   "source": [
    "# Ejercicio 2: Trabajando con datos de una lista"
   ]
  },
  {
   "cell_type": "code",
   "execution_count": 23,
   "metadata": {},
   "outputs": [
    {
     "name": "stdout",
     "output_type": "stream",
     "text": [
      "-----------------------\n",
      "El planeta que ingresaste es: Earth y está en el indice :3\n",
      "-----------------------\n",
      "['Mercury', 'Venus', 'Earth', 'Mars', 'Jupiter', 'Saturn', 'Uranus', 'Neptune']\n",
      "-----------------------\n",
      "['Jupiter', 'Saturn', 'Uranus', 'Neptune']\n"
     ]
    }
   ],
   "source": [
    "planetas = ['Mercury', 'Venus', 'Earth', 'Mars', 'Jupiter', 'Saturn', 'Uranus', 'Neptune']\n",
    "\n",
    "# Solicitamos el nombre de un planeta *Pista:  input()*\n",
    "plenete = input(\"Ingresa el nombre de un planeta. (Mayusculas y minusculas)\")\n",
    "\n",
    "print(\"-----------------------\")\n",
    "\n",
    "# Busca el planeta en la lista\n",
    "inputp = planetas.index(plenete) + 1\n",
    "print(\"El planeta que ingresaste es: \"+str(plenete)+\" y está en el indice :\"+str(inputp))\n",
    "\n",
    "print(\"-----------------------\")\n",
    "\n",
    "# Muestra los planetas más cercanos al sol\n",
    "print(planetas)\n",
    "\n",
    "print(\"-----------------------\")\n",
    "\n",
    "# Muestra los planetas más lejanos al sol\n",
    "print(planetas[inputp + 1:])"
   ]
  }
 ],
 "metadata": {
  "interpreter": {
   "hash": "4af4353d9197ba0fb0867c21fa621ef2a0a1e1639e0c13b2ce71d46fbd55eee4"
  },
  "kernelspec": {
   "display_name": "Python 3.9.10 64-bit (windows store)",
   "language": "python",
   "name": "python3"
  },
  "language_info": {
   "codemirror_mode": {
    "name": "ipython",
    "version": 3
   },
   "file_extension": ".py",
   "mimetype": "text/x-python",
   "name": "python",
   "nbconvert_exporter": "python",
   "pygments_lexer": "ipython3",
   "version": "3.9.10"
  },
  "orig_nbformat": 4
 },
 "nbformat": 4,
 "nbformat_minor": 2
}
