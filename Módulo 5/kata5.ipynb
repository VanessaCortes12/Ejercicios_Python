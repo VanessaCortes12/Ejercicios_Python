{
 "cells": [
  {
   "cell_type": "markdown",
   "metadata": {},
   "source": [
    "# Ejercicio 1\n",
    "\n",
    "            Utilizar operadores aritméticos"
   ]
  },
  {
   "cell_type": "markdown",
   "metadata": {},
   "source": [
    "Encunciado: "
   ]
  },
  {
   "cell_type": "markdown",
   "metadata": {},
   "source": [
    "Exploremos cómo podemos crear un programa que pueda calcular la distancia entre dos planetas. Comenzaremos usando dos distancias de planetas: Tierra (149.597.870 km) y Júpiter (778.547.200 km)."
   ]
  },
  {
   "cell_type": "code",
   "execution_count": 11,
   "metadata": {},
   "outputs": [
    {
     "name": "stdout",
     "output_type": "stream",
     "text": [
      "La distancia es: 628949330\n"
     ]
    }
   ],
   "source": [
    "Tierra= 149597870\n",
    "Jupiter= 778547200\n",
    "\n",
    "distancia = abs(Tierra - Jupiter) # Nos dará negativo, para\n",
    "                             # eso tenemos el valor absoluto\n",
    "\n",
    "redondeo = round(distancia)\n",
    "print(\"La distancia es: \"+str(redondeo))                             "
   ]
  },
  {
   "cell_type": "markdown",
   "metadata": {},
   "source": [
    "# Ejercicio 2 \n",
    "            Convierte cadenas en números y usa valores absolutos\n"
   ]
  },
  {
   "cell_type": "markdown",
   "metadata": {},
   "source": [
    "Enunciado:"
   ]
  },
  {
   "cell_type": "markdown",
   "metadata": {},
   "source": [
    "Crea una aplicación para trabajar con números y entrada de usuario\n",
    "Para crear nuestra aplicación, queremos leer la distancia del sol para dos planetas, y luego mostrar la distancia entre los planetas. Haremos esto usando input para leer los valores, int para convertir a entero y luego abs para convertir el resultado en su valor absoluto."
   ]
  },
  {
   "cell_type": "code",
   "execution_count": 14,
   "metadata": {},
   "outputs": [
    {
     "name": "stdout",
     "output_type": "stream",
     "text": [
      "La distancia es: 50300000 km\n"
     ]
    }
   ],
   "source": [
    "planeta1= input(\"Introduce la distancia del planeta 1: (KM) \")\n",
    "planeta2= input(\"Introduce la distancia del planeta 2: (KM)\")\n",
    "\n",
    "#Ahora lo convertimos a enteros\n",
    "# Creo que esto no es necesario, pero igual se puede no? xD\n",
    "p1 = int(planeta1)\n",
    "p2 = int(planeta2)\n",
    "\n",
    "distancia_planetas = abs(p1-p2)\n",
    "print(\"La distancia es: \"+str(distancia_planetas)+\" km\")\n"
   ]
  }
 ],
 "metadata": {
  "interpreter": {
   "hash": "4af4353d9197ba0fb0867c21fa621ef2a0a1e1639e0c13b2ce71d46fbd55eee4"
  },
  "kernelspec": {
   "display_name": "Python 3.9.10 64-bit (windows store)",
   "language": "python",
   "name": "python3"
  },
  "language_info": {
   "codemirror_mode": {
    "name": "ipython",
    "version": 3
   },
   "file_extension": ".py",
   "mimetype": "text/x-python",
   "name": "python",
   "nbconvert_exporter": "python",
   "pygments_lexer": "ipython3",
   "version": "3.9.10"
  },
  "orig_nbformat": 4
 },
 "nbformat": 4,
 "nbformat_minor": 2
}
